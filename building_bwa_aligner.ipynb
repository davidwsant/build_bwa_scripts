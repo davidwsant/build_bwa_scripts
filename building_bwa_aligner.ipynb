{
 "cells": [
  {
   "cell_type": "code",
   "execution_count": 1,
   "id": "3602600e",
   "metadata": {},
   "outputs": [],
   "source": [
    "#!/usr/bin/env python\n",
    "# coding: utf-8\n",
    "\n",
    "from argparse import ArgumentParser"
   ]
  },
  {
   "cell_type": "code",
   "execution_count": null,
   "id": "545b1a33",
   "metadata": {},
   "outputs": [],
   "source": [
    "args = ArgumentParser('./build_bwa_scripts.py', description=\"\"\"This program has been designed to \n",
    "    generate bash scripts to align genome sequencing data using BWA, Samtools, and PicardTools. See\n",
    "    documentation for links to the respective tools. \"\"\")\n",
    "\n",
    "args.add_argument(\n",
    "\t'-i',\n",
    "\t'--input_file',\n",
    "\thelp=\"\"\"\n",
    "\tThis is the csv that visualize_cgm.py will read to create the graphs. \n",
    "\t\"\"\",\n",
    "\tdefault=None\n",
    ")\n",
    "\n",
    "args.add_argument(\n",
    "\t'--config_file',\n",
    "\ttype=FileType('r'),\n",
    "\thelp=\"This is a config file in JSON format with the information about the databases to be read in. For an example of formatting, see the file LOVD3_Databases.json\",\n",
    "\tdefault=\"LOVD3_Databases.json\",\n",
    ")\n",
    "\n",
    "args.add_argument(\n",
    "\t'--disease_gene_lists',\n",
    "\tnargs='+', # This tells the program that if they specify this flag, they have to give it at least one input. If they don't specify it, then the default will go in.\n",
    "\thelp=\"\"\"\\\n",
    "This is a list of text files containing genes associated with the disease of interest. The text files\n",
    "should each contain a list of gene symbols for one given disease, one gene per line. The name of the disease will be specified\n",
    "by the arguement --disease_names. \"\"\",\n",
    "\tdefault=[\"SCID_ny_panel.txt\", \"Metabolic_diseases_genes.txt\"]\n",
    ")"
   ]
  },
  {
   "cell_type": "code",
   "execution_count": 3,
   "id": "655c5f44",
   "metadata": {},
   "outputs": [
    {
     "name": "stdout",
     "output_type": "stream",
     "text": [
      "/home/dwsant/Programs/bwa/bwa\n"
     ]
    }
   ],
   "source": [
    "import json5\n",
    "with open('bwa_parameters.json', 'r') as cf:\n",
    "    config_parameters = json5.load(cf)\n",
    "print(config_parameters['path_to_bwa'])"
   ]
  },
  {
   "cell_type": "code",
   "execution_count": 4,
   "id": "da18b90f",
   "metadata": {},
   "outputs": [
    {
     "data": {
      "text/plain": [
       "{'read_length': 150,\n",
       " 'is_paired': True,\n",
       " 'path_to_bwa': '/home/dwsant/Programs/bwa/bwa',\n",
       " 'number_cores': 8,\n",
       " 'path_to_prebuilt_reference': '/home/dwsant/Genome_References/MM39_BWA/MM39',\n",
       " 'path_to_samtools': '/home/dwsant/Programs/samtools-1.20/samtools',\n",
       " 'path_to_picard_jar': '/home/dwsant/Programs/picard/build/libs/picard.jar',\n",
       " 'fai_file': '/home/dwsant/Genome_References/MM39_BWA/Mus_musculus.GRCm39.dna.primary_assembly.fa.fai'}"
      ]
     },
     "execution_count": 4,
     "metadata": {},
     "output_type": "execute_result"
    }
   ],
   "source": [
    "config_parameters"
   ]
  },
  {
   "cell_type": "code",
   "execution_count": null,
   "id": "a3e54a08",
   "metadata": {},
   "outputs": [],
   "source": [
    "import pandas as pd"
   ]
  },
  {
   "cell_type": "code",
   "execution_count": 12,
   "id": "c07b823e",
   "metadata": {},
   "outputs": [
    {
     "data": {
      "text/html": [
       "<div>\n",
       "<style scoped>\n",
       "    .dataframe tbody tr th:only-of-type {\n",
       "        vertical-align: middle;\n",
       "    }\n",
       "\n",
       "    .dataframe tbody tr th {\n",
       "        vertical-align: top;\n",
       "    }\n",
       "\n",
       "    .dataframe thead th {\n",
       "        text-align: right;\n",
       "    }\n",
       "</style>\n",
       "<table border=\"1\" class=\"dataframe\">\n",
       "  <thead>\n",
       "    <tr style=\"text-align: right;\">\n",
       "      <th></th>\n",
       "      <th>Sample_name</th>\n",
       "      <th>Fastq1</th>\n",
       "      <th>Fastq2</th>\n",
       "    </tr>\n",
       "  </thead>\n",
       "  <tbody>\n",
       "    <tr>\n",
       "      <th>0</th>\n",
       "      <td>TEST</td>\n",
       "      <td>test_r1.fq.gz</td>\n",
       "      <td>test_r2.fq.gz</td>\n",
       "    </tr>\n",
       "    <tr>\n",
       "      <th>1</th>\n",
       "      <td>LINE2</td>\n",
       "      <td>test_r1.LINE2.fq.gz</td>\n",
       "      <td>test_r1.LINE2.fq.gz</td>\n",
       "    </tr>\n",
       "  </tbody>\n",
       "</table>\n",
       "</div>"
      ],
      "text/plain": [
       "  Sample_name               Fastq1               Fastq2\n",
       "0        TEST        test_r1.fq.gz        test_r2.fq.gz\n",
       "1       LINE2  test_r1.LINE2.fq.gz  test_r1.LINE2.fq.gz"
      ]
     },
     "execution_count": 12,
     "metadata": {},
     "output_type": "execute_result"
    }
   ],
   "source": [
    "\n",
    "sample_sheet_2 = pd.read_csv('samples.csv')\n",
    "sample_sheet_2\n"
   ]
  },
  {
   "cell_type": "code",
   "execution_count": 9,
   "id": "67c09061",
   "metadata": {},
   "outputs": [
    {
     "data": {
      "text/html": [
       "<div>\n",
       "<style scoped>\n",
       "    .dataframe tbody tr th:only-of-type {\n",
       "        vertical-align: middle;\n",
       "    }\n",
       "\n",
       "    .dataframe tbody tr th {\n",
       "        vertical-align: top;\n",
       "    }\n",
       "\n",
       "    .dataframe thead th {\n",
       "        text-align: right;\n",
       "    }\n",
       "</style>\n",
       "<table border=\"1\" class=\"dataframe\">\n",
       "  <thead>\n",
       "    <tr style=\"text-align: right;\">\n",
       "      <th></th>\n",
       "      <th>0</th>\n",
       "      <th>1</th>\n",
       "      <th>2</th>\n",
       "    </tr>\n",
       "  </thead>\n",
       "  <tbody>\n",
       "    <tr>\n",
       "      <th>0</th>\n",
       "      <td>TEST</td>\n",
       "      <td>test_r1.fq.gz</td>\n",
       "      <td>test_r2.fq.gz</td>\n",
       "    </tr>\n",
       "    <tr>\n",
       "      <th>1</th>\n",
       "      <td>LINE2</td>\n",
       "      <td>test_r1.LINE2.fq.gz</td>\n",
       "      <td>test_r1.LINE2.fq.gz</td>\n",
       "    </tr>\n",
       "  </tbody>\n",
       "</table>\n",
       "</div>"
      ],
      "text/plain": [
       "       0                    1                    2\n",
       "0   TEST        test_r1.fq.gz        test_r2.fq.gz\n",
       "1  LINE2  test_r1.LINE2.fq.gz  test_r1.LINE2.fq.gz"
      ]
     },
     "execution_count": 9,
     "metadata": {},
     "output_type": "execute_result"
    }
   ],
   "source": [
    "sample_sheet = pd.read_table('samples.txt', header=None, sep='\\t')\n",
    "sample_sheet"
   ]
  },
  {
   "cell_type": "code",
   "execution_count": 10,
   "id": "d353f12d",
   "metadata": {},
   "outputs": [
    {
     "name": "stdout",
     "output_type": "stream",
     "text": [
      "TEST\n",
      "LINE2\n"
     ]
    }
   ],
   "source": [
    "for index, row in sample_sheet.iterrows():\n",
    "    print(row[0])"
   ]
  },
  {
   "cell_type": "code",
   "execution_count": 18,
   "id": "269eeed8",
   "metadata": {},
   "outputs": [
    {
     "data": {
      "text/html": [
       "<div>\n",
       "<style scoped>\n",
       "    .dataframe tbody tr th:only-of-type {\n",
       "        vertical-align: middle;\n",
       "    }\n",
       "\n",
       "    .dataframe tbody tr th {\n",
       "        vertical-align: top;\n",
       "    }\n",
       "\n",
       "    .dataframe thead th {\n",
       "        text-align: right;\n",
       "    }\n",
       "</style>\n",
       "<table border=\"1\" class=\"dataframe\">\n",
       "  <thead>\n",
       "    <tr style=\"text-align: right;\">\n",
       "      <th></th>\n",
       "      <th>Sample_name</th>\n",
       "      <th>Fastq</th>\n",
       "    </tr>\n",
       "  </thead>\n",
       "  <tbody>\n",
       "    <tr>\n",
       "      <th>0</th>\n",
       "      <td>TEST</td>\n",
       "      <td>test_r1.fq.gz</td>\n",
       "    </tr>\n",
       "    <tr>\n",
       "      <th>1</th>\n",
       "      <td>LINE2</td>\n",
       "      <td>test_r1.LINE2.fq.gz</td>\n",
       "    </tr>\n",
       "  </tbody>\n",
       "</table>\n",
       "</div>"
      ],
      "text/plain": [
       "  Sample_name                Fastq\n",
       "0        TEST        test_r1.fq.gz\n",
       "1       LINE2  test_r1.LINE2.fq.gz"
      ]
     },
     "execution_count": 18,
     "metadata": {},
     "output_type": "execute_result"
    }
   ],
   "source": [
    "sample_sheet_single_read = pd.read_csv('samples2.csv')\n",
    "sample_sheet_single_read"
   ]
  },
  {
   "cell_type": "code",
   "execution_count": 19,
   "id": "89705227",
   "metadata": {},
   "outputs": [
    {
     "data": {
      "text/plain": [
       "2"
      ]
     },
     "execution_count": 19,
     "metadata": {},
     "output_type": "execute_result"
    }
   ],
   "source": [
    "len(sample_sheet_single_read.columns)"
   ]
  },
  {
   "cell_type": "code",
   "execution_count": 20,
   "id": "3c569e80",
   "metadata": {},
   "outputs": [
    {
     "name": "stdout",
     "output_type": "stream",
     "text": [
      "do something\n"
     ]
    }
   ],
   "source": [
    "if config_parameters['is_paired'] and len(sample_sheet_single_read.columns) != 3:\n",
    "    print('do something')"
   ]
  },
  {
   "cell_type": "code",
   "execution_count": null,
   "id": "c2483ae9",
   "metadata": {},
   "outputs": [],
   "source": [
    "output_lines.append(config['path_to_samtools']+\n",
    "                    ' view -b -f 4 -@ '\n",
    "                    +num_cores+\n",
    "                    ' -t '+\n",
    "                    config['fai_file']+\n",
    "                    ' '+row[0]+'.sam > '+row[0]+'.unmapped.bam'\n",
    "              "
   ]
  },
  {
   "cell_type": "code",
   "execution_count": 66,
   "id": "4d5c7f06",
   "metadata": {
    "scrolled": false
   },
   "outputs": [],
   "source": [
    "\n",
    "\n",
    "\n",
    "def build(df, config):\n",
    "    output_info = {}\n",
    "    for index, row in df.iterrows():\n",
    "        output_info[row[0]] = {}\n",
    "        output_info['commands'] = []\n",
    "        num_cores = str(config_parameters[\"number_cores\"])\n",
    "        fastq_variable = row[1]\n",
    "        if config['is_paired']:\n",
    "            fastq_variable=row[1] +' '+row[2]\n",
    "        output_info['commands'].append('## Running on 8 threads')\n",
    "        output_info['commands'].append('## The first step is to align to the genome')\n",
    "        # The first step is to align the file. How this command is formatted will depend on several parameters\n",
    "        if config['read_length'] > 69:\n",
    "            # read length suggests that using bwa mem will be more favorable\n",
    "            output_info['commands'].append('## Read length suggests that bwa mem is the more favorable option')\n",
    "            output_info['commands'].append(config['path_to_bwa']+' mem -t '+num_cores+' '+config['path_to_prebuilt_reference']+' '+fastq_variable+' > '+row[0]+'.sam')\n",
    "        output_info['commands'].append('## Checking alignment stats')\n",
    "        output_info['commands'].append(config['path_to_samtools']+' stats '+row[0]+'.sam'+' | grep ^SN | cut -f 2- > '+row[0]+'.01sam.align_stats.txt')        \n",
    "        output_info['commands'].append('## Save unmapped reads and convert them to fastq format for troubleshooting')\n",
    "        ##\n",
    "        output_info['commands'].append(config['path_to_samtools']+' view -b -f 4 -@ '+num_cores+' -t '+config['fai_file']+' '+row[0]+'.sam > '+row[0]+'.unmapped.bam')\n",
    "        output_info['commands'].append(config['path_to_samtools']+' fastq '+row[0]+'.unmapped.bam -1 '+row[0]+'_unmapped1.fastq -2 '+row[0]+'_unmapped2.fastq -s '+row[0]+'_single_read_mapped.fastq')\n",
    "        ##\n",
    "        output_info['commands'].append('## Convert to BAM format and remove multimapped reads')\n",
    "        output_info['commands'].append(config['path_to_samtools']+' view -bq 10 -@ '+num_cores+' '+row[0]+'.sam'+' > '+row[0]+'.uniquelyAligned.bam')\n",
    "        output_info['commands'].append('## Remove large SAM file and calculate stats for uniquely aligned')\n",
    "        output_info['commands'].append('rm '+row[0]+'.sam')\n",
    "        output_info['commands'].append(config['path_to_samtools']+' stats '+row[0]+'.uniquelyAligned.bam | grep ^SN | cut -f 2- > '+row[0]+'.02uniquelyAligned.align_stats.txt')\n",
    "        output_info['commands'].append('## Now to label the sample inside the bam file, required for Picard Tools')\n",
    "        output_info['commands'].append(config['path_to_samtools']+' addreplacerg -@ '+num_cores+' -r \"@RG\\\\tID:RG1\\\\tSM:'+row[0]+'\\\\tPL:Illumina\\\\tLB:Library.fa\" -o '+row[0]+'.uniquelyAlignedLabeled.bam '+row[0]+'.uniquelyAligned.bam')\n",
    "        output_info['commands'].append('## Now sort it and index for Picard Tools')\n",
    "        output_info['commands'].append(config['path_to_samtools']+' sort -@ '+num_cores+' '+row[0]+'.uniquelyAlignedLabeled.bam -o '+row[0]+'.uniquelyAlignedLabeledSorted.bam')\n",
    "        output_info['commands'].append(config['path_to_samtools']+' index -@ '+num_cores+' '+row[0]+'.uniquelyAlignedLabeledSorted.bam')\n",
    "        output_info['commands'].append('## Now use PicardTools to mark and remove duplicates')\n",
    "        output_info['commands'].append('java -jar '+config['path_to_picard_jar']+' MarkDuplicates -REMOVE_DUPLICATES true -VALIDATION_STRINGENCY SILENT -AS true -I '+row[0]+'.uniquelyAlignedLabeledSorted.bam -O '+row[0]+'.rmdup.bam -M '+row[0]+'.picardMetrics.txt')\n",
    "        output_info['commands'].append('## Run final stats and index the bam file')\n",
    "        output_info['commands'].append(config['path_to_samtools']+' index -@ '+num_cores+' '+row[0]+'.rmdup.bam')\n",
    "        output_info['commands'].append(config['path_to_samtools']+' stats '+row[0]+'.rmdup.bam'+' | grep ^SN | cut -f 2- > '+row[0]+'.03rmdup.align_stats.txt')\n",
    "        #samtools stats RWt_IgG_1.sam | grep ^SN | cut -f 2- > RWt_IgG_1.alignment_stats.01sam.txt\n",
    "#         for thing in output_lines:\n",
    "#             print(thing)\n",
    "#         print()\n",
    "        output_info['commands'].append(output_lines)\n",
    "    return output_info\n",
    "        \n",
    "    \n",
    "output_info = build(sample_sheet_2, config_parameters)"
   ]
  },
  {
   "cell_type": "code",
   "execution_count": null,
   "id": "c4c303d0",
   "metadata": {},
   "outputs": [],
   "source": []
  },
  {
   "cell_type": "code",
   "execution_count": 71,
   "id": "5ab452b8",
   "metadata": {},
   "outputs": [],
   "source": [
    "def build(df, config):\n",
    "    output_info = {}\n",
    "    for index, row in df.iterrows():\n",
    "        output_commands = []\n",
    "        num_cores = str(config_parameters[\"number_cores\"])\n",
    "        fastq_variable = row[1]\n",
    "        if config['is_paired']:\n",
    "            fastq_variable=row[1] +' '+row[2]\n",
    "        output_commands.append('## Running on '+num_cores+' threads')\n",
    "        output_commands.append('## The first step is to align to the genome')\n",
    "        # The first step is to align the file. How this command is formatted will depend on several parameters\n",
    "        if config['read_length'] > 69:\n",
    "            # read length suggests that using bwa mem will be more favorable\n",
    "            output_commands.append('## Read length suggests that bwa mem is the more favorable option')\n",
    "            output_commands.append(config['path_to_bwa']+' mem -t '+num_cores+' '+config['path_to_prebuilt_reference']+' '+fastq_variable+' > '+row[0]+'.sam')\n",
    "        output_commands.append('## Checking alignment stats')\n",
    "        output_commands.append(config['path_to_samtools']+' stats '+row[0]+'.sam'+' | grep ^SN | cut -f 2- > '+row[0]+'.01sam.align_stats.txt')        \n",
    "        output_commands.append('## Save unmapped reads and convert them to fastq format for troubleshooting')\n",
    "        ##\n",
    "        output_commands.append(config['path_to_samtools']+' view -b -f 4 -@ '+num_cores+' -t '+config['fai_file']+' '+row[0]+'.sam > '+row[0]+'.unmapped.bam')\n",
    "        output_commands.append(config['path_to_samtools']+' fastq '+row[0]+'.unmapped.bam -1 '+row[0]+'_unmapped1.fastq -2 '+row[0]+'_unmapped2.fastq -s '+row[0]+'_single_read_mapped.fastq')\n",
    "        ##\n",
    "        output_commands.append('## Convert to BAM format and remove multimapped reads')\n",
    "        output_commands.append(config['path_to_samtools']+' view -bq 10 -@ '+num_cores+' '+row[0]+'.sam'+' > '+row[0]+'.uniquelyAligned.bam')\n",
    "        output_commands.append('## Remove large SAM file and calculate stats for uniquely aligned')\n",
    "        output_commands.append('rm '+row[0]+'.sam')\n",
    "        output_commands.append(config['path_to_samtools']+' stats '+row[0]+'.uniquelyAligned.bam | grep ^SN | cut -f 2- > '+row[0]+'.02uniquelyAligned.align_stats.txt')\n",
    "        output_commands.append('## Now to label the sample inside the bam file, required for Picard Tools')\n",
    "        output_commands.append(config['path_to_samtools']+' addreplacerg -@ '+num_cores+' -r \"@RG\\\\tID:RG1\\\\tSM:'+row[0]+'\\\\tPL:Illumina\\\\tLB:Library.fa\" -o '+row[0]+'.uniquelyAlignedLabeled.bam '+row[0]+'.uniquelyAligned.bam')\n",
    "        output_commands.append('## Now sort it and index for Picard Tools')\n",
    "        output_commands.append(config['path_to_samtools']+' sort -@ '+num_cores+' '+row[0]+'.uniquelyAlignedLabeled.bam -o '+row[0]+'.uniquelyAlignedLabeledSorted.bam')\n",
    "        output_commands.append(config['path_to_samtools']+' index -@ '+num_cores+' '+row[0]+'.uniquelyAlignedLabeledSorted.bam')\n",
    "        output_commands.append('## Now use PicardTools to mark and remove duplicates')\n",
    "        output_commands.append('java -jar '+config['path_to_picard_jar']+' MarkDuplicates -REMOVE_DUPLICATES true -VALIDATION_STRINGENCY SILENT -AS true -I '+row[0]+'.uniquelyAlignedLabeledSorted.bam -O '+row[0]+'.rmdup.bam -M '+row[0]+'.picardMetrics.txt')\n",
    "        output_commands.append('## Run final stats and index the bam file')\n",
    "        output_commands.append(config['path_to_samtools']+' index -@ '+num_cores+' '+row[0]+'.rmdup.bam')\n",
    "        output_commands.append(config['path_to_samtools']+' stats '+row[0]+'.rmdup.bam'+' | grep ^SN | cut -f 2- > '+row[0]+'.03rmdup.align_stats.txt')\n",
    "        # Now save everything to the output directory\n",
    "        output_info[row[0]] = output_commands\n",
    "    return output_info\n",
    "        \n",
    "    \n",
    "output_info = build(sample_sheet_2, config_parameters)"
   ]
  },
  {
   "cell_type": "code",
   "execution_count": null,
   "id": "da6fa518",
   "metadata": {},
   "outputs": [],
   "source": []
  },
  {
   "cell_type": "code",
   "execution_count": 72,
   "id": "9891a0e9",
   "metadata": {
    "scrolled": true
   },
   "outputs": [
    {
     "data": {
      "text/plain": [
       "{'TEST': ['## Running on 8 threads',\n",
       "  '## The first step is to align to the genome',\n",
       "  '## Read length suggests that bwa mem is the more favorable option',\n",
       "  '/home/dwsant/Programs/bwa/bwa mem -t 8 /home/dwsant/Genome_References/MM39_BWA/MM39 test_r1.fq.gz test_r2.fq.gz > TEST.sam',\n",
       "  '## Checking alignment stats',\n",
       "  '/home/dwsant/Programs/samtools-1.20/samtools stats TEST.sam | grep ^SN | cut -f 2- > TEST.01sam.align_stats.txt',\n",
       "  '## Save unmapped reads and convert them to fastq format for troubleshooting',\n",
       "  '/home/dwsant/Programs/samtools-1.20/samtools view -b -f 4 -@ 8 -t /home/dwsant/Genome_References/MM39_BWA/Mus_musculus.GRCm39.dna.primary_assembly.fa.fai TEST.sam > TEST.unmapped.bam',\n",
       "  '/home/dwsant/Programs/samtools-1.20/samtools fastq TEST.unmapped.bam -1 TEST_unmapped1.fastq -2 TEST_unmapped2.fastq -s TEST_single_read_mapped.fastq',\n",
       "  '## Convert to BAM format and remove multimapped reads',\n",
       "  '/home/dwsant/Programs/samtools-1.20/samtools view -bq 10 -@ 8 TEST.sam > TEST.uniquelyAligned.bam',\n",
       "  '## Remove large SAM file and calculate stats for uniquely aligned',\n",
       "  'rm TEST.sam',\n",
       "  '/home/dwsant/Programs/samtools-1.20/samtools stats TEST.uniquelyAligned.bam | grep ^SN | cut -f 2- > TEST.02uniquelyAligned.align_stats.txt',\n",
       "  '## Now to label the sample inside the bam file, required for Picard Tools',\n",
       "  '/home/dwsant/Programs/samtools-1.20/samtools addreplacerg -@ 8 -r \"@RG\\\\tID:RG1\\\\tSM:TEST\\\\tPL:Illumina\\\\tLB:Library.fa\" -o TEST.uniquelyAlignedLabeled.bam TEST.uniquelyAligned.bam',\n",
       "  '## Now sort it and index for Picard Tools',\n",
       "  '/home/dwsant/Programs/samtools-1.20/samtools sort -@ 8 TEST.uniquelyAlignedLabeled.bam -o TEST.uniquelyAlignedLabeledSorted.bam',\n",
       "  '/home/dwsant/Programs/samtools-1.20/samtools index -@ 8 TEST.uniquelyAlignedLabeledSorted.bam',\n",
       "  '## Now use PicardTools to mark and remove duplicates',\n",
       "  'java -jar /home/dwsant/Programs/picard/build/libs/picard.jar MarkDuplicates -REMOVE_DUPLICATES true -VALIDATION_STRINGENCY SILENT -AS true -I TEST.uniquelyAlignedLabeledSorted.bam -O TEST.rmdup.bam -M TEST.picardMetrics.txt',\n",
       "  '## Run final stats and index the bam file',\n",
       "  '/home/dwsant/Programs/samtools-1.20/samtools index -@ 8 TEST.rmdup.bam',\n",
       "  '/home/dwsant/Programs/samtools-1.20/samtools stats TEST.rmdup.bam | grep ^SN | cut -f 2- > TEST.03rmdup.align_stats.txt'],\n",
       " 'LINE2': ['## Running on 8 threads',\n",
       "  '## The first step is to align to the genome',\n",
       "  '## Read length suggests that bwa mem is the more favorable option',\n",
       "  '/home/dwsant/Programs/bwa/bwa mem -t 8 /home/dwsant/Genome_References/MM39_BWA/MM39 test_r1.LINE2.fq.gz test_r1.LINE2.fq.gz > LINE2.sam',\n",
       "  '## Checking alignment stats',\n",
       "  '/home/dwsant/Programs/samtools-1.20/samtools stats LINE2.sam | grep ^SN | cut -f 2- > LINE2.01sam.align_stats.txt',\n",
       "  '## Save unmapped reads and convert them to fastq format for troubleshooting',\n",
       "  '/home/dwsant/Programs/samtools-1.20/samtools view -b -f 4 -@ 8 -t /home/dwsant/Genome_References/MM39_BWA/Mus_musculus.GRCm39.dna.primary_assembly.fa.fai LINE2.sam > LINE2.unmapped.bam',\n",
       "  '/home/dwsant/Programs/samtools-1.20/samtools fastq LINE2.unmapped.bam -1 LINE2_unmapped1.fastq -2 LINE2_unmapped2.fastq -s LINE2_single_read_mapped.fastq',\n",
       "  '## Convert to BAM format and remove multimapped reads',\n",
       "  '/home/dwsant/Programs/samtools-1.20/samtools view -bq 10 -@ 8 LINE2.sam > LINE2.uniquelyAligned.bam',\n",
       "  '## Remove large SAM file and calculate stats for uniquely aligned',\n",
       "  'rm LINE2.sam',\n",
       "  '/home/dwsant/Programs/samtools-1.20/samtools stats LINE2.uniquelyAligned.bam | grep ^SN | cut -f 2- > LINE2.02uniquelyAligned.align_stats.txt',\n",
       "  '## Now to label the sample inside the bam file, required for Picard Tools',\n",
       "  '/home/dwsant/Programs/samtools-1.20/samtools addreplacerg -@ 8 -r \"@RG\\\\tID:RG1\\\\tSM:LINE2\\\\tPL:Illumina\\\\tLB:Library.fa\" -o LINE2.uniquelyAlignedLabeled.bam LINE2.uniquelyAligned.bam',\n",
       "  '## Now sort it and index for Picard Tools',\n",
       "  '/home/dwsant/Programs/samtools-1.20/samtools sort -@ 8 LINE2.uniquelyAlignedLabeled.bam -o LINE2.uniquelyAlignedLabeledSorted.bam',\n",
       "  '/home/dwsant/Programs/samtools-1.20/samtools index -@ 8 LINE2.uniquelyAlignedLabeledSorted.bam',\n",
       "  '## Now use PicardTools to mark and remove duplicates',\n",
       "  'java -jar /home/dwsant/Programs/picard/build/libs/picard.jar MarkDuplicates -REMOVE_DUPLICATES true -VALIDATION_STRINGENCY SILENT -AS true -I LINE2.uniquelyAlignedLabeledSorted.bam -O LINE2.rmdup.bam -M LINE2.picardMetrics.txt',\n",
       "  '## Run final stats and index the bam file',\n",
       "  '/home/dwsant/Programs/samtools-1.20/samtools index -@ 8 LINE2.rmdup.bam',\n",
       "  '/home/dwsant/Programs/samtools-1.20/samtools stats LINE2.rmdup.bam | grep ^SN | cut -f 2- > LINE2.03rmdup.align_stats.txt']}"
      ]
     },
     "execution_count": 72,
     "metadata": {},
     "output_type": "execute_result"
    }
   ],
   "source": [
    "output_info"
   ]
  },
  {
   "cell_type": "code",
   "execution_count": 73,
   "id": "5642bcb8",
   "metadata": {},
   "outputs": [
    {
     "data": {
      "text/plain": [
       "['## Running on 8 threads',\n",
       " '## The first step is to align to the genome',\n",
       " '## Read length suggests that bwa mem is the more favorable option',\n",
       " '/home/dwsant/Programs/bwa/bwa mem -t 8 /home/dwsant/Genome_References/MM39_BWA/MM39 test_r1.fq.gz test_r2.fq.gz > TEST.sam',\n",
       " '## Checking alignment stats',\n",
       " '/home/dwsant/Programs/samtools-1.20/samtools stats TEST.sam | grep ^SN | cut -f 2- > TEST.01sam.align_stats.txt',\n",
       " '## Save unmapped reads and convert them to fastq format for troubleshooting',\n",
       " '/home/dwsant/Programs/samtools-1.20/samtools view -b -f 4 -@ 8 -t /home/dwsant/Genome_References/MM39_BWA/Mus_musculus.GRCm39.dna.primary_assembly.fa.fai TEST.sam > TEST.unmapped.bam',\n",
       " '/home/dwsant/Programs/samtools-1.20/samtools fastq TEST.unmapped.bam -1 TEST_unmapped1.fastq -2 TEST_unmapped2.fastq -s TEST_single_read_mapped.fastq',\n",
       " '## Convert to BAM format and remove multimapped reads',\n",
       " '/home/dwsant/Programs/samtools-1.20/samtools view -bq 10 -@ 8 TEST.sam > TEST.uniquelyAligned.bam',\n",
       " '## Remove large SAM file and calculate stats for uniquely aligned',\n",
       " 'rm TEST.sam',\n",
       " '/home/dwsant/Programs/samtools-1.20/samtools stats TEST.uniquelyAligned.bam | grep ^SN | cut -f 2- > TEST.02uniquelyAligned.align_stats.txt',\n",
       " '## Now to label the sample inside the bam file, required for Picard Tools',\n",
       " '/home/dwsant/Programs/samtools-1.20/samtools addreplacerg -@ 8 -r \"@RG\\\\tID:RG1\\\\tSM:TEST\\\\tPL:Illumina\\\\tLB:Library.fa\" -o TEST.uniquelyAlignedLabeled.bam TEST.uniquelyAligned.bam',\n",
       " '## Now sort it and index for Picard Tools',\n",
       " '/home/dwsant/Programs/samtools-1.20/samtools sort -@ 8 TEST.uniquelyAlignedLabeled.bam -o TEST.uniquelyAlignedLabeledSorted.bam',\n",
       " '/home/dwsant/Programs/samtools-1.20/samtools index -@ 8 TEST.uniquelyAlignedLabeledSorted.bam',\n",
       " '## Now use PicardTools to mark and remove duplicates',\n",
       " 'java -jar /home/dwsant/Programs/picard/build/libs/picard.jar MarkDuplicates -REMOVE_DUPLICATES true -VALIDATION_STRINGENCY SILENT -AS true -I TEST.uniquelyAlignedLabeledSorted.bam -O TEST.rmdup.bam -M TEST.picardMetrics.txt',\n",
       " '## Run final stats and index the bam file',\n",
       " '/home/dwsant/Programs/samtools-1.20/samtools index -@ 8 TEST.rmdup.bam',\n",
       " '/home/dwsant/Programs/samtools-1.20/samtools stats TEST.rmdup.bam | grep ^SN | cut -f 2- > TEST.03rmdup.align_stats.txt']"
      ]
     },
     "execution_count": 73,
     "metadata": {},
     "output_type": "execute_result"
    }
   ],
   "source": [
    "output_info['TEST']"
   ]
  },
  {
   "cell_type": "code",
   "execution_count": 74,
   "id": "fc94db4e",
   "metadata": {},
   "outputs": [],
   "source": [
    "for sample in output_info:\n",
    "    with open(sample+'_bwa.sh', 'w') as script_file:\n",
    "        for item in output_info[sample]:\n",
    "            script_file.write(f\"{item}\\n\")"
   ]
  },
  {
   "cell_type": "code",
   "execution_count": null,
   "id": "93fa8cb8",
   "metadata": {},
   "outputs": [],
   "source": []
  },
  {
   "cell_type": "code",
   "execution_count": 32,
   "id": "9802dc58",
   "metadata": {},
   "outputs": [
    {
     "name": "stdout",
     "output_type": "stream",
     "text": [
      "['## Running on 8 threads', '## The first step is to align to the genome', '## Read length suggests that bwa mem is the more favorable option', '/home/dwsant/Programs/bwa/bwa mem -t 8 test_r1.fq.gz test_r2.fq.gz > TEST.sam']\n",
      "['## Running on 8 threads', '## The first step is to align to the genome', '## Read length suggests that bwa mem is the more favorable option', '/home/dwsant/Programs/bwa/bwa mem -t 8 test_r1.LINE2.fq.gz test_r1.LINE2.fq.gz > LINE2.sam']\n"
     ]
    }
   ],
   "source": [
    "build(sample_sheet, config_parameters)"
   ]
  },
  {
   "cell_type": "code",
   "execution_count": 26,
   "id": "e5dd103c",
   "metadata": {},
   "outputs": [],
   "source": [
    "from copy import deepcopy"
   ]
  },
  {
   "cell_type": "code",
   "execution_count": 28,
   "id": "ce102c67",
   "metadata": {},
   "outputs": [],
   "source": [
    "config_parameters_single = deepcopy(config_parameters)\n",
    "config_parameters_single['is_paired'] = False"
   ]
  },
  {
   "cell_type": "code",
   "execution_count": 33,
   "id": "8862f129",
   "metadata": {},
   "outputs": [
    {
     "name": "stdout",
     "output_type": "stream",
     "text": [
      "['## Running on 8 threads', '## The first step is to align to the genome', '## Read length suggests that bwa mem is the more favorable option', '/home/dwsant/Programs/bwa/bwa mem -t 8 test_r1.fq.gz > TEST.sam']\n",
      "['## Running on 8 threads', '## The first step is to align to the genome', '## Read length suggests that bwa mem is the more favorable option', '/home/dwsant/Programs/bwa/bwa mem -t 8 test_r1.LINE2.fq.gz > LINE2.sam']\n"
     ]
    }
   ],
   "source": [
    "\n",
    "build(sample_sheet_single_read, config_parameters_single)"
   ]
  },
  {
   "cell_type": "code",
   "execution_count": 15,
   "id": "56e7a7e4",
   "metadata": {},
   "outputs": [
    {
     "data": {
      "text/plain": [
       "{'read_length': 150,\n",
       " 'is_paired': True,\n",
       " 'path_to_bwa': '/home/dwsant/Programs/bwa/bwa',\n",
       " 'number_cores': 8,\n",
       " 'path_to_prebuilt_reference': '/home/dwsant/Genome_References/MM39_BWA/MM39',\n",
       " 'path_to_samtools': '/home/dwsant/Programs/samtools-1.20/samtools',\n",
       " 'path_to_picard_jar': '/home/dwsant/Programs/picard/build/libs/picard.jar',\n",
       " 'fai_file': '/home/dwsant/Genome_References/MM39_BWA/Mus_musculus.GRCm39.dna.primary_assembly.fa.fai'}"
      ]
     },
     "execution_count": 15,
     "metadata": {},
     "output_type": "execute_result"
    }
   ],
   "source": [
    "config_parameters"
   ]
  },
  {
   "cell_type": "code",
   "execution_count": 17,
   "id": "e74aeed2",
   "metadata": {},
   "outputs": [],
   "source": [
    "list_of_args = ['This should be line 1', 'this should be line 2', 'and this should be line 3.']\n",
    "\n",
    "\n",
    "with open('your_file.txt', 'w') as script_file:\n",
    "    for item in list_of_args:\n",
    "        #script_file.write(item, 'a')\n",
    "        script_file.write(f\"{item}\\n\")\n",
    "#with open(\"test.txt\") as \n",
    "#with open(\"test.txt\") as myfile: myfile.write(\"appended text\",'a')"
   ]
  },
  {
   "cell_type": "code",
   "execution_count": null,
   "id": "0e004c14",
   "metadata": {},
   "outputs": [],
   "source": []
  }
 ],
 "metadata": {
  "kernelspec": {
   "display_name": "Python 3 (ipykernel)",
   "language": "python",
   "name": "python3"
  },
  "language_info": {
   "codemirror_mode": {
    "name": "ipython",
    "version": 3
   },
   "file_extension": ".py",
   "mimetype": "text/x-python",
   "name": "python",
   "nbconvert_exporter": "python",
   "pygments_lexer": "ipython3",
   "version": "3.9.7"
  }
 },
 "nbformat": 4,
 "nbformat_minor": 5
}
